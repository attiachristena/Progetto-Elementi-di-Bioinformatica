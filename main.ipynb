{
 "cells": [
  {
   "cell_type": "markdown",
   "id": "163d1edb-1a49-46f4-bbc3-be5395044fd8",
   "metadata": {},
   "source": [
    "# Progetto di Elementi di Bioinformatica 24/25 - Tema 4  \n",
    "*Christena Attia – Mat. 894887*"
   ]
  },
  {
   "cell_type": "code",
   "execution_count": null,
   "id": "c4351a92-aeba-4310-a459-07a7544d69f2",
   "metadata": {},
   "outputs": [],
   "source": [
    "import matplotlib.pyplot as plt\n",
    "from Bio import SeqIO\n",
    "from Bio.Seq import Seq\n",
    "from Bio.SeqRecord import SeqRecord\n",
    "from Bio.SeqIO import write\n",
    "import statistics as stats\n",
    "import pandas as pd\n",
    "import os as os"
   ]
  },
  {
   "cell_type": "markdown",
   "id": "8d102411-8ca8-4b4c-9c4f-8b59485a616a",
   "metadata": {},
   "source": [
    "Di seguito i parametri di input configurabili tra cui: \n",
    "1) il `file path` del file FASTQ (già presente nella cartella del progetto)\n",
    "2) la lunghezza `k` dei k-mer da analizzare\n",
    "3) la soglia di frequenza `frequency_threshold` minima oltre la quale un k-mer viene considerato significativo"
   ]
  },
  {
   "cell_type": "code",
   "execution_count": null,
   "id": "ec604a62-dfaa-4bb6-b282-70fb0071509b",
   "metadata": {},
   "outputs": [],
   "source": [
    "file_path = 'SRR18961685-5000.fastq'  \n",
    "k = 7\n",
    "frequency_threshold = 0.001"
   ]
  },
  {
   "cell_type": "markdown",
   "id": "e738d60e-8b74-4711-8110-0dc2c2568c86",
   "metadata": {},
   "source": [
    "La seguente funzione `parseFileFASTQ`, innanzitutto, controlla che il file sia presente, altrimenti segnala un errore. In seguito estrae una lista con tutte le sequenze e una lista con le qualità associate a ciascuna base. "
   ]
  },
  {
   "cell_type": "code",
   "execution_count": null,
   "id": "cc84342c-0674-4ce2-8509-adfa3f80e861",
   "metadata": {},
   "outputs": [],
   "source": [
    "def parseFileFASTQ(file_path):\n",
    "    \n",
    "    if not os.path.exists(file_path):\n",
    "        raise FileNotFoundError(f\"Il file '{file_path}' non è stato trovato. Verificare il percorso.\")\n",
    "        \n",
    "    reads = list(SeqIO.parse(file_path, \"fastq\"))\n",
    "    sequences = [str(r.seq) for r in reads]\n",
    "    qualityScores = [r.letter_annotations[\"phred_quality\"] for r in reads] \n",
    "    readLen = len(sequences[0])\n",
    "    \n",
    "    print(f\"Letti {len(sequences)} reads, lunghi {readLen} basi ciascuno.\")\n",
    "    return reads, sequences, qualityScores, readLen\n",
    "\n",
    "reads, sequences, qualityScores, readLen = parseFileFASTQ(file_path)"
   ]
  },
  {
   "cell_type": "code",
   "execution_count": null,
   "id": "2ebb2654-ff98-473d-9ca0-b699b566fb45",
   "metadata": {},
   "outputs": [],
   "source": [
    "print(\"\\nEsempio di record:\")\n",
    "print(reads[0])\n",
    "\n",
    "print(\"\\nEsempio di sequenza:\")\n",
    "print(sequences[0])\n",
    "\n",
    "print(\"\\nPunteggi di qualità (Phred) della prima read:\")\n",
    "print(qualityScores[0])\n"
   ]
  },
  {
   "cell_type": "markdown",
   "id": "be9044e3-3581-49d9-b595-d2cf91a1f01f",
   "metadata": {},
   "source": [
    "La funzione `countKmers` scorre ogni sequenza e conta, per ogni posizione possibile, quanti k-mer di lunghezza `k` appaiono.  \n",
    "Per ciascun k-mer costruisce una lista di conteggi, in cui ogni elemento rappresenta quante volte quel k-mer appare in una determinata posizione tra tutti i reads. \n",
    "\n",
    "*Esempio di output:\n",
    "  'ATGCT': [3, 0, 1, 0, 5, 0, ...],\n",
    "  'CGTAA': [0, 0, 7, 1, 0, 0, ...],\n",
    "  ...*"
   ]
  },
  {
   "cell_type": "code",
   "execution_count": null,
   "id": "6e0cb071-8746-43f8-9efc-11289a74f8d0",
   "metadata": {},
   "outputs": [],
   "source": [
    "def countKmers(sequences, k, readLen):\n",
    "    kmerCounts = {}\n",
    "\n",
    "    for index, seq in enumerate(sequences):\n",
    "        for pos in range(readLen - k + 1):\n",
    "            kmer = seq[pos:pos + k]\n",
    "\n",
    "            if kmer not in kmerCounts:\n",
    "                kmerCounts[kmer] = [0] * readLen\n",
    "\n",
    "            kmerCounts[kmer][pos] += 1\n",
    "\n",
    "    return kmerCounts\n"
   ]
  },
  {
   "cell_type": "code",
   "execution_count": null,
   "id": "1b0299ab-ef16-48e3-bbb6-1bd94076eb5d",
   "metadata": {},
   "outputs": [],
   "source": [
    "kmerDictionary = countKmers(sequences, k, readLen)\n",
    "\n",
    "print(\"\\n Esempi di distribuzione posizionale di due k-mer distinti\")\n",
    "firstKmer = list(kmerDictionary.keys())[0]\n",
    "print(f\"\\n Primo k-mer distinto individuato: '{firstKmer}'\")\n",
    "print(f\"    Distribuzione posizionale di '{firstKmer}': {kmerDictionary[firstKmer]}\")\n",
    "\n",
    "secondKmer = list(kmerDictionary.keys())[1]\n",
    "print(f\"\\n Secondo k-mer distinto individuato: '{secondKmer}'\")\n",
    "print(f\"    Distribuzione posizionale di '{secondKmer}': {kmerDictionary[secondKmer]}\")"
   ]
  },
  {
   "cell_type": "code",
   "execution_count": null,
   "id": "0295213f-3dc5-440f-95bd-ecff190d8e9b",
   "metadata": {},
   "outputs": [],
   "source": [
    "print(f\"\\nIn totale ci sono: {len(kmerDictionary)} k-mer distinti.\")"
   ]
  },
  {
   "cell_type": "markdown",
   "id": "defdcb25-09b5-42a6-8914-80cbfd257128",
   "metadata": {},
   "source": [
    "\n",
    "La funzione `filterKmers` calcola la frequenza globale di ciascun k-mer nel dataset:  \n",
    "$$\n",
    "\\text{frequenza} = \\frac{\\text{occorrenze totali del } k\\text{-}mer}{\\text{numero totale di posizioni analizzate}}\n",
    "$$\n",
    "Tiene solo i k-mer che superano la soglia `frequency_threshold`, eliminando quelli troppo rari per essere significativi. Inotre, crea una tabella riassuntiva mostrando sia i k-mer significativi (ovvero che superano la soglia di frequenza) che quelli meno significativi. \n"
   ]
  },
  {
   "cell_type": "code",
   "execution_count": null,
   "id": "79c70746-ad98-4b20-90cc-abe91b93d1c0",
   "metadata": {},
   "outputs": [],
   "source": [
    "def filterKmers(kmerDictionary, threshold, totalPos):\n",
    "    filtered = {}\n",
    "    rows = []\n",
    "\n",
    "    for kmer, counts in kmerDictionary.items():\n",
    "        total_occurrences = sum(counts)\n",
    "        frequency = total_occurrences / totalPos\n",
    "        included = frequency >= threshold\n",
    "\n",
    "        if included:\n",
    "            filtered[kmer] = counts\n",
    "\n",
    "        rows.append({\n",
    "            \"k-mer\": kmer,\n",
    "            \"Totale occorrenze\": total_occurrences,\n",
    "            \"Frequenza\": round(frequency, 6),\n",
    "            \"Incluso\": \"Sì\" if included else \"No\"\n",
    "        })\n",
    "\n",
    "    table_filterd = pd.DataFrame(rows)\n",
    "    table_filterd.sort_values(by=\"Frequenza\", ascending=False, inplace=True)\n",
    "    table_filterd.reset_index(drop=True, inplace=True)\n",
    "\n",
    "    display(table_filterd)\n",
    "\n",
    "    return filtered, rows\n"
   ]
  },
  {
   "cell_type": "code",
   "execution_count": null,
   "id": "c7f89425-5532-4cfd-9cb8-38dd0e0b179b",
   "metadata": {},
   "outputs": [],
   "source": [
    "totalPos = (readLen - k + 1) * len(sequences)\n",
    "\n",
    "filteredDict, table_rows = filterKmers(kmerDictionary, frequency_threshold, totalPos)"
   ]
  },
  {
   "cell_type": "code",
   "execution_count": null,
   "id": "2da3b932-f3e1-4daf-bc37-303c1c53f1ac",
   "metadata": {},
   "outputs": [],
   "source": [
    "print(f\"Rimasti {len(filteredDict)} k-mer dopo il filtro su {len(kmerDictionary)} totali.\\n\")"
   ]
  },
  {
   "cell_type": "markdown",
   "id": "437556a8-3600-4503-bf11-e88cb181b912",
   "metadata": {},
   "source": [
    "La funzione `find_maxKmer` identifica il k-mer che tra tutti ha il numero massimo di occorrenze in una singola posizione.  \n",
    "Restituisce:\n",
    "- il nome del k-mer dominante\n",
    "- la posizione in cui raggiunge il suo picco massimo\n",
    "- Il valore delle occorrenze in quella posizione"
   ]
  },
  {
   "cell_type": "code",
   "execution_count": null,
   "id": "76fabd56-0253-4169-be08-8b56f86e38fa",
   "metadata": {},
   "outputs": [],
   "source": [
    "def find_maxKmer(filteredDict):\n",
    "    bestKmer, bestKmer_pos, max_count = None, None, 0\n",
    "    \n",
    "    for kmer, counts in filteredDict.items():\n",
    "        for i, count in enumerate(counts):\n",
    "            if count > max_count:\n",
    "                max_count = count\n",
    "                bestKmer = kmer\n",
    "                bestKmer_pos = i\n",
    "    \n",
    "    if bestKmer is None:\n",
    "        print(\"Nessun k-mer dominante trovato.\")\n",
    "    return bestKmer, bestKmer_pos, max_count\n"
   ]
  },
  {
   "cell_type": "code",
   "execution_count": null,
   "id": "5179d179-8d76-4560-91ff-8d5ff35abacb",
   "metadata": {},
   "outputs": [],
   "source": [
    "bestKmer, bestKmer_pos, max_count = find_maxKmer(filteredDict)  \n",
    "\n",
    "table_best_kmer = pd.DataFrame({\n",
    "    \"k-mer dominante\": [bestKmer],\n",
    "    \"Posizione massima\": [bestKmer_pos],\n",
    "    \"Occorrenze massime\": [max_count]\n",
    "})\n",
    "\n",
    "display(table_best_kmer)"
   ]
  },
  {
   "cell_type": "markdown",
   "id": "6e16cb00-f9ae-4c90-8b6d-13ab601d44c4",
   "metadata": {},
   "source": [
    "Di seguito la funzione crea una tabella con i 5 k-mer che hanno avuto il valore massimo di occorrenze più alto in una singola posizione. Per ogni k-mer della lista filtrata viene mostrato:\n",
    "- Il numero totale di occorrenze \n",
    "- La posizione con più occorrenze\n",
    "- Il numero di occorrenze trovate per quella posizione"
   ]
  },
  {
   "cell_type": "code",
   "execution_count": null,
   "id": "40a17b7b-4e3d-4849-829a-c36d515a810c",
   "metadata": {},
   "outputs": [],
   "source": [
    "def top5_bestKmers(filteredDict):\n",
    "    table = []\n",
    "    \n",
    "    for kmer, counts in filteredDict.items():\n",
    "        max_count = max(counts)\n",
    "        bestPos = counts.index(max_count)\n",
    "        total = sum(counts)\n",
    "        table.append((kmer, total, bestPos, max_count))  \n",
    "    \n",
    "    df = pd.DataFrame(table, columns=[\"k-mer\", \"Totale occorrenze\", \"Posizione max\", \"Occorrenze max\"])\n",
    "    top5_table = df.sort_values(by=\"Occorrenze max\", ascending=False).head(5).reset_index(drop=True)\n",
    "    display(top5_table)\n",
    "    return top5_table\n",
    "\n",
    "top5_table = top5_bestKmers(filteredDict)\n"
   ]
  },
  {
   "cell_type": "markdown",
   "id": "435dfebb-4041-4917-a2d9-f617ec2c908b",
   "metadata": {},
   "source": [
    "Questa funzione disegna un grafico a barre che mostra l’andamento delle occorrenze del k-mer dominante rispetto alla posizione. La barra corrispondente alla posizione in cui il k-mer è più frequente viene tratteggiata di rosso."
   ]
  },
  {
   "cell_type": "code",
   "execution_count": null,
   "id": "7ae90f03-1a65-49ad-b3da-de16bd46e6a5",
   "metadata": {},
   "outputs": [],
   "source": [
    "def distributionDiagram(kmer, counts, bestKmer_pos):\n",
    "    plt.figure(figsize=(15, 6))\n",
    "    plt.bar(range(len(counts)), counts, color='lightgreen')\n",
    "    plt.axvline(x=bestKmer_pos, color='red', linestyle='--')\n",
    "    plt.xlabel(\"Posizione\")\n",
    "    plt.ylabel(\"Occorrenze\")\n",
    "    plt.title(f\"Distribuzione posizionale del k-mer '{kmer} con occorrenze massime alla posizione {bestKmer_pos}\")\n",
    "    plt.tight_layout()\n",
    "    plt.show()\n",
    "\n",
    "if not filteredDict:\n",
    "    print(\"Nessun k-mer supera la soglia di frequenza da analizzare. Cambiare i parametri di configurazione.\")\n",
    "else:\n",
    "    distributionDiagram(bestKmer, filteredDict[bestKmer], bestKmer_pos)\n"
   ]
  },
  {
   "cell_type": "markdown",
   "id": "989f4aac-cf70-4c11-a304-b87d87b10188",
   "metadata": {},
   "source": [
    "Questa funzione estrae e salva in un file FASTA tutte le reads che contengono il k-mer dominante esattamente nella posizione in cui ha avuto il picco massimo. Per ogni read salvata, nell'header viene inserita anche la qualità media (media dei punteggi Phred) del read stesso."
   ]
  },
  {
   "cell_type": "code",
   "execution_count": null,
   "id": "2a71d638-cfaa-49b9-8ecb-624d4d8de4c9",
   "metadata": {},
   "outputs": [],
   "source": [
    "def fastaOutput(reads, qualityScores, bestKmer, bestKmer_pos, k, output_filename):\n",
    "    output = []\n",
    "    \n",
    "    for r, qual in zip(reads, qualityScores):\n",
    "        seq = str(r.seq)\n",
    "        \n",
    "        if seq[bestKmer_pos:bestKmer_pos+k] == bestKmer:\n",
    "            average = round(stats.mean(qual), 2)\n",
    "            newRecord = SeqRecord(Seq(seq), id=f\"{r.id} {average}\", description=\"\")\n",
    "            output.append(newRecord)\n",
    "    \n",
    "    write(output, output_filename, \"fasta\")\n",
    "    print(f\"Salvati {len(output)} reads in '{output_filename}'.\")\n",
    "\n",
    "if bestKmer is not None and bestKmer_pos is not None:\n",
    "    fastaOutput(reads, qualityScores, bestKmer, bestKmer_pos, k, \"output.fasta\")\n",
    "else:\n",
    "    print(\"Nessun k-mer dominante valido trovato. File FASTA non generato.\")\n"
   ]
  }
 ],
 "metadata": {
  "kernelspec": {
   "display_name": "Python 3 (ipykernel)",
   "language": "python",
   "name": "python3"
  },
  "language_info": {
   "codemirror_mode": {
    "name": "ipython",
    "version": 3
   },
   "file_extension": ".py",
   "mimetype": "text/x-python",
   "name": "python",
   "nbconvert_exporter": "python",
   "pygments_lexer": "ipython3",
   "version": "3.12.4"
  }
 },
 "nbformat": 4,
 "nbformat_minor": 5
}
